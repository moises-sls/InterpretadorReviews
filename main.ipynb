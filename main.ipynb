{
 "cells": [
  {
   "cell_type": "markdown",
   "id": "bf5fec67",
   "metadata": {},
   "source": [
    "### Criando a classe dos dados:"
   ]
  },
  {
   "cell_type": "code",
   "execution_count": null,
   "id": "e9cc526e",
   "metadata": {},
   "outputs": [],
   "source": [
    "import random\n",
    "import json"
   ]
  },
  {
   "cell_type": "code",
   "execution_count": 2,
   "id": "2747e5e0",
   "metadata": {},
   "outputs": [],
   "source": [
    "class Sentiment:\n",
    "  NEGATIVE = \"NEGATIVE\"\n",
    "  NEUTRAL = \"NEUTRAL\"\n",
    "  POSITIVE = \"POSITIVE\""
   ]
  },
  {
   "cell_type": "code",
   "execution_count": 48,
   "id": "e77da6a9",
   "metadata": {},
   "outputs": [],
   "source": [
    "class Review:\n",
    "  def __init__(self, text, score):\n",
    "    self.text = text\n",
    "    self.score = score\n",
    "    self.sentiment = self.get_sentiment()\n",
    "\n",
    "  def get_sentiment(self):\n",
    "    if self.score <= 2:\n",
    "      return Sentiment.NEGATIVE\n",
    "    elif self.score == 3:\n",
    "      return Sentiment.NEUTRAL\n",
    "    else: #score = 4 ou 5\n",
    "      return Sentiment.POSITIVE\n",
    "    \n",
    "\n",
    "# queremos que a quantidade de negativos e positivos seja igual no conjunto de treino, \n",
    "# para isso, vamos analisar quais reviews são positivas e quais são negativas no nosso\n",
    "# conjunto de treino\n",
    "class ReviewContainer:\n",
    "  def __init__(self, reviews):\n",
    "    self.reviews = reviews\n",
    "\n",
    "  def get_text(self):\n",
    "    return [x.text for x in self.reviews]\n",
    "\n",
    "  def get_sentiment(self):\n",
    "    return [x.sentiment for x in self.reviews]\n",
    "\n",
    "  def evenly_distribute(self):\n",
    "    negative = list(filter(lambda x: x.sentiment == Sentiment.NEGATIVE, self.reviews))\n",
    "    positive = list(filter(lambda x: x.sentiment == Sentiment.POSITIVE, self.reviews))\n",
    "    \n",
    "    positive_shrunk = positive[:len(negative)] # escolhendo a quantidade de reviews positivas como sendo igual a quantidade de \n",
    "    # reviews negativas\n",
    "    \n",
    "    self.reviews = negative + positive_shrunk # as reviews finais serão as reviews negativas + positivas\n",
    "    random.seed(42)\n",
    "    random.shuffle(self.reviews) # aleatoriezando as reviews"
   ]
  },
  {
   "cell_type": "markdown",
   "id": "08a416f2",
   "metadata": {},
   "source": [
    "### Carregando os dados:"
   ]
  },
  {
   "cell_type": "code",
   "execution_count": 4,
   "id": "b9cd58f4",
   "metadata": {},
   "outputs": [
    {
     "name": "stdout",
     "output_type": "stream",
     "text": [
      "I hoped for Mia to have some peace in this book, but her story is so real and raw.  Broken World was so touching and emotional because you go from Mia's trauma to her trying to cope.  I love the way the story displays how there is no \"just bouncing back\" from being sexually assaulted.  Mia showed us how those demons come for you every day and how sometimes they best you. I was so in the moment with Broken World and hurt with Mia because she was surrounded by people but so alone and I understood her feelings.  I found myself wishing I could give her some of my courage and strength or even just to be there for her.  Thank you Lizzy for putting a great character's voice on a strong subject and making it so that other peoples story may be heard through Mia's.\n",
      "5.0\n"
     ]
    }
   ],
   "source": [
    "file_name = 'data/Books_small_10000.json'\n",
    "\n",
    "reviews = []\n",
    "\n",
    "with open(file_name) as f:\n",
    "  for line in f:\n",
    "    review = json.loads(line)\n",
    "    reviews.append(Review(review['reviewText'], review['overall']))\n",
    "\n",
    "print(reviews[5].text)\n",
    "print(reviews[5].score)"
   ]
  },
  {
   "cell_type": "markdown",
   "id": "1b7e4422",
   "metadata": {},
   "source": [
    "### Preparando os dados"
   ]
  },
  {
   "cell_type": "code",
   "execution_count": null,
   "id": "4d58f569",
   "metadata": {},
   "outputs": [],
   "source": [
    "from sklearn.model_selection import train_test_split\n",
    "\n",
    "training, test = train_test_split(reviews, test_size = 0.33, random_state = 42)\n",
    "\n",
    "train_container = ReviewContainer(training)\n",
    "\n",
    "test_container = ReviewContainer(test)"
   ]
  },
  {
   "cell_type": "code",
   "execution_count": 58,
   "id": "b5ed3170",
   "metadata": {},
   "outputs": [
    {
     "name": "stdout",
     "output_type": "stream",
     "text": [
      "Quantidade de reviews POSITIVAS:  436\n",
      "Quantidade de reviews NEGATIVAS:  436\n"
     ]
    }
   ],
   "source": [
    "train_container.evenly_distribute() # igualando a quantidade de reviews positivas e negativas:\n",
    "\n",
    "train_x = train_container.get_text()\n",
    "train_y = train_container.get_sentiment()\n",
    "\n",
    "test_x = test_container.get_text()\n",
    "test_y = test_container.get_sentiment()\n",
    "\n",
    "print('Quantidade de reviews POSITIVAS: ', train_y.count(Sentiment.POSITIVE))\n",
    "print('Quantidade de reviews NEGATIVAS: ',train_y.count(Sentiment.NEGATIVE))"
   ]
  },
  {
   "cell_type": "markdown",
   "id": "b937a07a",
   "metadata": {},
   "source": [
    "##### Vetorização utilizando Bags of Words"
   ]
  },
  {
   "cell_type": "markdown",
   "id": "b08fa6f8",
   "metadata": {},
   "source": [
    "![alt text](Screenshot_1.jpg \"Title\")"
   ]
  },
  {
   "cell_type": "code",
   "execution_count": 59,
   "id": "a143659e",
   "metadata": {},
   "outputs": [
    {
     "name": "stdout",
     "output_type": "stream",
     "text": [
      "Excellent children's story. Read it to children, now to grandchildren.\n",
      "<Compressed Sparse Row sparse matrix of dtype 'int64'\n",
      "\twith 8 stored elements and shape (1, 8906)>\n",
      "  Coords\tValues\n",
      "  (0, 2814)\t1\n",
      "  (0, 1409)\t2\n",
      "  (0, 7533)\t1\n",
      "  (0, 6392)\t1\n",
      "  (0, 4277)\t1\n",
      "  (0, 8052)\t2\n",
      "  (0, 5426)\t1\n",
      "  (0, 3477)\t1\n"
     ]
    }
   ],
   "source": [
    "from sklearn.feature_extraction.text import CountVectorizer\n",
    "\n",
    "vectorizer = CountVectorizer()\n",
    "\n",
    "# transformando os textos em train_x em vetores numéricos\n",
    "#\n",
    "train_x_vectors = vectorizer.fit_transform(train_x)\n",
    "# vectorizer.fit aprende o dicionário com todas as palavras \n",
    "# vectorizer.transform transforma a string num vetor utilizando o dicionário aprendido\n",
    "# vectorizer.fit_transform faz ambas as coisas\n",
    "\n",
    "test_x_vectors = vectorizer.transform(test_x)\n",
    "\n",
    "print(train_x[0])\n",
    "print(train_x_vectors[0])"
   ]
  },
  {
   "cell_type": "markdown",
   "id": "f5b85d01",
   "metadata": {},
   "source": [
    "#### Classificação"
   ]
  },
  {
   "cell_type": "code",
   "execution_count": 60,
   "id": "f02a3e8d",
   "metadata": {},
   "outputs": [
    {
     "name": "stdout",
     "output_type": "stream",
     "text": [
      "Excellent children's story. Read it to children, now to grandchildren.\n",
      "POSITIVE\n",
      "O texto é:  ['POSITIVE']\n"
     ]
    }
   ],
   "source": [
    "from sklearn.linear_model import LogisticRegression\n",
    "\n",
    "# criando um classificador\n",
    "clf_log = LogisticRegression()\n",
    "\n",
    "# ajustando os vetores\n",
    "clf_log.fit(train_x_vectors, train_y)\n",
    "\n",
    "# queremos prever, a partir do nosso modelo, se o seguinte texto, que é positivo,\n",
    "#  é positivo ou negativo:\n",
    "print(train_x[0])\n",
    "print(train_y[0])\n",
    "\n",
    "# resultado previsto:\n",
    "print(\"O texto é: \", clf_log.predict(train_x_vectors[0]))"
   ]
  },
  {
   "cell_type": "markdown",
   "id": "65531854",
   "metadata": {},
   "source": [
    "#### Avaliação do modelo"
   ]
  },
  {
   "cell_type": "code",
   "execution_count": 61,
   "id": "08f6ef34",
   "metadata": {},
   "outputs": [
    {
     "data": {
      "text/plain": [
       "0.7451515151515151"
      ]
     },
     "execution_count": 61,
     "metadata": {},
     "output_type": "execute_result"
    }
   ],
   "source": [
    "# acurácia média do modelo, ou seja, queremos saber o quão bem, em média,\n",
    "#  os vetores de treino, em test_x_vectors, predizem os vetores test_y\n",
    "clf_log.score(test_x_vectors, test_y)"
   ]
  },
  {
   "cell_type": "code",
   "execution_count": 62,
   "id": "967857c9",
   "metadata": {},
   "outputs": [
    {
     "data": {
      "text/plain": [
       "array([0.87834736, 0.        , 0.31136581])"
      ]
     },
     "execution_count": 62,
     "metadata": {},
     "output_type": "execute_result"
    }
   ],
   "source": [
    "# Calculando o F1 score, que é uma medida que leva em conta a quantidade de falsos\n",
    "# positivos, falsos negativos e positivos verdadeiros, é, de certa forma uma medida mais \n",
    "# precisa do que a medida score\n",
    "\n",
    "from sklearn.metrics import f1_score\n",
    "\n",
    "# recebe o valor real e o valor predito, retorna o quanto o modelo está acertando para\n",
    "# cada classe que queremos prever\n",
    "#\n",
    "f1_score(test_y, clf_log.predict(test_x_vectors), average=None, \n",
    "         labels=[Sentiment.POSITIVE, Sentiment.NEUTRAL, Sentiment.NEGATIVE])"
   ]
  },
  {
   "cell_type": "markdown",
   "id": "7933a09d",
   "metadata": {},
   "source": [
    "Notamos que o nosso modelo tem uma boa capacidade para prever valores positivos, porém peca em prever valores negativos e neutros."
   ]
  },
  {
   "cell_type": "markdown",
   "id": "2286e367",
   "metadata": {},
   "source": [
    "Notamos que a quantidade de valores POSITIVOS no nosso conjunto de treinamento é muito maior que a quantidade de valores NEGATIVOS, por esse motivo, a capacidade do modelo de prever valores negativos é fortemente prejudicada. Para resolver isso, aumentaremos o banco de dados."
   ]
  },
  {
   "cell_type": "code",
   "execution_count": 12,
   "id": "dce4b3ef",
   "metadata": {},
   "outputs": [
    {
     "name": "stdout",
     "output_type": "stream",
     "text": [
      "Quantidade de valores POSITIVOS no conjunto de treino:  5611\n",
      "Quantidade de valores NEGATIVOS no conjunto de treino:  436\n"
     ]
    }
   ],
   "source": [
    "print('Quantidade de valores POSITIVOS no conjunto de treino: ',\n",
    "      train_y.count(Sentiment.POSITIVE))\n",
    "\n",
    "print('Quantidade de valores NEGATIVOS no conjunto de treino: ',\n",
    "      train_y.count(Sentiment.NEGATIVE))"
   ]
  },
  {
   "cell_type": "markdown",
   "id": "fe92582a",
   "metadata": {},
   "source": [
    "O objetivo é distribuir igualmente a quantidade de reviews positivas e negativas para o nosso conjunto de teste e, dessa forma, não viesar o nosso modelo, buscando uma melhor qualidade de previsão para as opiniões positivas e negativas"
   ]
  },
  {
   "cell_type": "code",
   "execution_count": null,
   "id": "bc1139ed",
   "metadata": {},
   "outputs": [],
   "source": []
  }
 ],
 "metadata": {
  "kernelspec": {
   "display_name": "Python 3",
   "language": "python",
   "name": "python3"
  },
  "language_info": {
   "codemirror_mode": {
    "name": "ipython",
    "version": 3
   },
   "file_extension": ".py",
   "mimetype": "text/x-python",
   "name": "python",
   "nbconvert_exporter": "python",
   "pygments_lexer": "ipython3",
   "version": "3.13.2"
  }
 },
 "nbformat": 4,
 "nbformat_minor": 5
}
