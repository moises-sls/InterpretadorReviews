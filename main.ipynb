{
 "cells": [
  {
   "cell_type": "markdown",
   "id": "bf5fec67",
   "metadata": {},
   "source": [
    "### Criando a classe dos dados:"
   ]
  },
  {
   "cell_type": "code",
   "execution_count": 2,
   "id": "e9cc526e",
   "metadata": {},
   "outputs": [],
   "source": [
    "import random\n",
    "import json"
   ]
  },
  {
   "cell_type": "code",
   "execution_count": 3,
   "id": "2747e5e0",
   "metadata": {},
   "outputs": [],
   "source": [
    "class Sentiment:\n",
    "  NEGATIVE = \"NEGATIVE\"\n",
    "  NEUTRAL = \"NEUTRAL\"\n",
    "  POSITIVE = \"POSITIVE\""
   ]
  },
  {
   "cell_type": "code",
   "execution_count": 4,
   "id": "e77da6a9",
   "metadata": {},
   "outputs": [],
   "source": [
    "class Review:\n",
    "  def __init__(self, text, score):\n",
    "    self.text = text\n",
    "    self.score = score\n",
    "    self.sentiment = self.get_sentiment()\n",
    "\n",
    "  def get_sentiment(self):\n",
    "    if self.score <= 2:\n",
    "      return Sentiment.NEGATIVE\n",
    "    elif self.score == 3:\n",
    "      return Sentiment.NEUTRAL\n",
    "    else: #score = 4 ou 5\n",
    "      return Sentiment.POSITIVE"
   ]
  },
  {
   "cell_type": "markdown",
   "id": "08a416f2",
   "metadata": {},
   "source": [
    "### Carregando os dados:"
   ]
  },
  {
   "cell_type": "code",
   "execution_count": 5,
   "id": "b9cd58f4",
   "metadata": {},
   "outputs": [
    {
     "name": "stdout",
     "output_type": "stream",
     "text": [
      "Love the book, great story line, keeps you entertained.for a first novel from this author she did a great job,  Would definitely recommend!\n",
      "4.0\n"
     ]
    }
   ],
   "source": [
    "file_name = 'data/Books_small.json'\n",
    "\n",
    "reviews = []\n",
    "\n",
    "with open(file_name) as f:\n",
    "  for line in f:\n",
    "    review = json.loads(line)\n",
    "    reviews.append(Review(review['reviewText'], review['overall']))\n",
    "\n",
    "print(reviews[5].text)\n",
    "print(reviews[5].score)"
   ]
  },
  {
   "cell_type": "markdown",
   "id": "1b7e4422",
   "metadata": {},
   "source": [
    "### Preparando os dados"
   ]
  },
  {
   "cell_type": "code",
   "execution_count": 6,
   "id": "df9cd9e8",
   "metadata": {},
   "outputs": [],
   "source": [
    "from sklearn.model_selection import train_test_split"
   ]
  },
  {
   "cell_type": "code",
   "execution_count": 7,
   "id": "4d58f569",
   "metadata": {},
   "outputs": [
    {
     "data": {
      "text/plain": [
       "'POSITIVE'"
      ]
     },
     "execution_count": 7,
     "metadata": {},
     "output_type": "execute_result"
    }
   ],
   "source": [
    "training, test = train_test_split(reviews, test_size = 0.33, random_state = 42)\n",
    "\n",
    "training[0].sentiment"
   ]
  },
  {
   "cell_type": "code",
   "execution_count": 8,
   "id": "b5ed3170",
   "metadata": {},
   "outputs": [
    {
     "name": "stdout",
     "output_type": "stream",
     "text": [
      "Vivid characters and descriptions. The author has created a tale that grabs your attention and I couldn't put it down.\n",
      "POSITIVE\n"
     ]
    }
   ],
   "source": [
    "train_x = [x.text for x in training]\n",
    "train_y = [y.sentiment for y in training]\n",
    "\n",
    "test_x = [x.text for x in test]\n",
    "test_y = [y.sentiment for y in test]\n",
    "\n",
    "print(train_x[0])\n",
    "print(train_y[0])"
   ]
  },
  {
   "cell_type": "markdown",
   "id": "b937a07a",
   "metadata": {},
   "source": [
    "##### Vetorização utilizando Bags of Words"
   ]
  },
  {
   "cell_type": "markdown",
   "id": "7e95310c",
   "metadata": {},
   "source": [
    "&emsp;&emsp;&emsp;&emsp;This is an example."
   ]
  },
  {
   "cell_type": "markdown",
   "id": "b08fa6f8",
   "metadata": {},
   "source": [
    "![alt text](Screenshot_1.jpg \"Title\")"
   ]
  },
  {
   "cell_type": "code",
   "execution_count": null,
   "id": "a143659e",
   "metadata": {},
   "outputs": [
    {
     "name": "stdout",
     "output_type": "stream",
     "text": [
      "Vivid characters and descriptions. The author has created a tale that grabs your attention and I couldn't put it down.\n",
      "<Compressed Sparse Row sparse matrix of dtype 'int64'\n",
      "\twith 17 stored elements and shape (1, 7372)>\n",
      "  Coords\tValues\n",
      "  (0, 7086)\t1\n",
      "  (0, 1148)\t1\n",
      "  (0, 350)\t2\n",
      "  (0, 1800)\t1\n",
      "  (0, 6595)\t1\n",
      "  (0, 562)\t1\n",
      "  (0, 3054)\t1\n",
      "  (0, 1558)\t1\n",
      "  (0, 6475)\t1\n",
      "  (0, 6593)\t1\n",
      "  (0, 2895)\t1\n",
      "  (0, 7353)\t1\n",
      "  (0, 539)\t1\n",
      "  (0, 1515)\t1\n",
      "  (0, 5197)\t1\n",
      "  (0, 3545)\t1\n",
      "  (0, 2007)\t1\n"
     ]
    }
   ],
   "source": [
    "from sklearn.feature_extraction.text import CountVectorizer\n",
    "\n",
    "vectorizer = CountVectorizer()\n",
    "\n",
    "# transformando os textos em train_x em vetores numéricos\n",
    "#\n",
    "train_x_vectors = vectorizer.fit_transform(train_x)\n",
    "# vectorizer.fit aprende o dicionário com todas as palavras \n",
    "# vectorizer.transform transforma a string num vetor utilizando o dicionário aprendido\n",
    "# vectorizer.fit_transform faz ambas as coisas\n",
    "\n",
    "test_x_vectors = vectorizer.transform(test_x)\n",
    "\n",
    "print(train_x[0])\n",
    "print(train_x_vectors[0])"
   ]
  },
  {
   "cell_type": "markdown",
   "id": "f5b85d01",
   "metadata": {},
   "source": [
    "#### Classificação"
   ]
  },
  {
   "cell_type": "code",
   "execution_count": 19,
   "id": "f02a3e8d",
   "metadata": {},
   "outputs": [
    {
     "name": "stdout",
     "output_type": "stream",
     "text": [
      "Vivid characters and descriptions. The author has created a tale that grabs your attention and I couldn't put it down.\n",
      "POSITIVE\n",
      "O texto é:  ['POSITIVE']\n"
     ]
    }
   ],
   "source": [
    "from sklearn.linear_model import LogisticRegression\n",
    "\n",
    "# criando um classificador\n",
    "clf_log = LogisticRegression()\n",
    "\n",
    "# ajustando os vetores\n",
    "clf_log.fit(train_x_vectors, train_y)\n",
    "\n",
    "# queremos prever, a partir do nosso modelo, se o seguinte texto, que é positivo,\n",
    "#  é positivo ou negativo:\n",
    "print(train_x[0])\n",
    "print(train_y[0])\n",
    "\n",
    "# resultado previsto:\n",
    "print(\"O texto é: \", clf_log.predict(train_x_vectors[0]))"
   ]
  },
  {
   "cell_type": "markdown",
   "id": "65531854",
   "metadata": {},
   "source": [
    "#### Avaliação do modelo"
   ]
  },
  {
   "cell_type": "code",
   "execution_count": null,
   "id": "08f6ef34",
   "metadata": {},
   "outputs": [
    {
     "data": {
      "text/plain": [
       "0.8303030303030303"
      ]
     },
     "execution_count": 21,
     "metadata": {},
     "output_type": "execute_result"
    }
   ],
   "source": [
    "# acurácia média do modelo, ou seja, queremos saber o quão bem, em média,\n",
    "#  os vetores de treino, em test_x_vectors, predizem os vetores test_y\n",
    "clf_log.score(test_x_vectors, test_y)"
   ]
  },
  {
   "cell_type": "code",
   "execution_count": null,
   "id": "967857c9",
   "metadata": {},
   "outputs": [
    {
     "data": {
      "text/plain": [
       "array([0.91370558, 0.12244898, 0.1       ])"
      ]
     },
     "execution_count": 26,
     "metadata": {},
     "output_type": "execute_result"
    }
   ],
   "source": [
    "# Calculando o F1 score, que é uma medida que leva em conta a quantidade de falsos\n",
    "# positivos, falsos negativos e positivos verdadeiros, é, de certa forma uma medida mais \n",
    "# precisa do que a medida score\n",
    "\n",
    "from sklearn.metrics import f1_score\n",
    "\n",
    "# recebe o valor real e o valor predito, retorna o quanto o modelo está acertando para\n",
    "# cada classe que queremos prever\n",
    "#\n",
    "f1_score(test_y, clf_log.predict(test_x_vectors), average=None, \n",
    "         labels=[Sentiment.POSITIVE, Sentiment.NEUTRAL, Sentiment.NEGATIVE])"
   ]
  },
  {
   "cell_type": "markdown",
   "id": "7933a09d",
   "metadata": {},
   "source": [
    "Notamos que o nosso modelo tem uma boa capacidade para prever valores positivos, porém peca em prever valores negativos e neutros."
   ]
  },
  {
   "cell_type": "code",
   "execution_count": 29,
   "id": "dce4b3ef",
   "metadata": {},
   "outputs": [
    {
     "name": "stdout",
     "output_type": "stream",
     "text": [
      "Quantidade de valores POSITIVOS no conjunto de treino:  552\n",
      "Quantidade de valores NEGATIVOS no conjunto de treino:  47\n"
     ]
    }
   ],
   "source": [
    "print('Quantidade de valores POSITIVOS no conjunto de treino: ',\n",
    "      train_y.count(Sentiment.POSITIVE))\n",
    "\n",
    "print('Quantidade de valores NEGATIVOS no conjunto de treino: ',\n",
    "      train_y.count(Sentiment.NEGATIVE))"
   ]
  },
  {
   "cell_type": "markdown",
   "id": "2286e367",
   "metadata": {},
   "source": [
    "Notamos que a quantidade de valores POSITIVOS no nosso conjunto de treinamento é muito maior que a quantidade de valores NEGATIVOS, por esse motivo, a capacidade do modelo de prever valores negativos é fortemente prejudicada. Para resolver isso, aumentaremos o banco de dados."
   ]
  }
 ],
 "metadata": {
  "kernelspec": {
   "display_name": "Python 3",
   "language": "python",
   "name": "python3"
  },
  "language_info": {
   "codemirror_mode": {
    "name": "ipython",
    "version": 3
   },
   "file_extension": ".py",
   "mimetype": "text/x-python",
   "name": "python",
   "nbconvert_exporter": "python",
   "pygments_lexer": "ipython3",
   "version": "3.12.0"
  }
 },
 "nbformat": 4,
 "nbformat_minor": 5
}
